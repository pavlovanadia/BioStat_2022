{
  "cells": [
    {
      "cell_type": "markdown",
      "metadata": {
        "colab_type": "text",
        "id": "view-in-github"
      },
      "source": [
        "<a href=\"https://colab.research.google.com/github/danon6868/BI-stat-course/blob/main/lecture_5_hypothesis_testing/homework/homework_lecture_5.ipynb\" target=\"_parent\"><img src=\"https://colab.research.google.com/assets/colab-badge.svg\" alt=\"Open In Colab\"/></a>"
      ]
    },
    {
      "cell_type": "markdown",
      "metadata": {
        "id": "_d7wDz2eSo0i"
      },
      "source": [
        "Всем привет! Пришло время нашей первой домашней работы не на степике. Надеюсь, будет весело :)\n",
        "\n",
        "Так как, `pandas` вы еще не проходили, то я вам немного помогу. Эту домашку можно делать как в питоне, так и в R, само задание будет написано в `Google Colaboratory`."
      ]
    },
    {
      "cell_type": "code",
      "execution_count": 36,
      "metadata": {
        "id": "OLE-TC4eN1HP"
      },
      "outputs": [],
      "source": [
        "# Pandas понадобится нам для чтения денных\n",
        "import pandas as pd\n",
        "import seaborn as sns\n",
        "import matplotlib.pyplot as plt\n",
        "import numpy as np"
      ]
    },
    {
      "cell_type": "code",
      "execution_count": 37,
      "metadata": {
        "colab": {
          "base_uri": "https://localhost:8080/",
          "height": 317
        },
        "id": "OQxt1TdvN_mT",
        "outputId": "f64a75bf-25e0-483c-f38a-a32633cad895"
      },
      "outputs": [
        {
          "data": {
            "text/html": [
              "<div>\n",
              "<style scoped>\n",
              "    .dataframe tbody tr th:only-of-type {\n",
              "        vertical-align: middle;\n",
              "    }\n",
              "\n",
              "    .dataframe tbody tr th {\n",
              "        vertical-align: top;\n",
              "    }\n",
              "\n",
              "    .dataframe thead th {\n",
              "        text-align: right;\n",
              "    }\n",
              "</style>\n",
              "<table border=\"1\" class=\"dataframe\">\n",
              "  <thead>\n",
              "    <tr style=\"text-align: right;\">\n",
              "      <th></th>\n",
              "      <th>TMCC1</th>\n",
              "      <th>RANBP3</th>\n",
              "      <th>GABRG3</th>\n",
              "      <th>ARRDC5</th>\n",
              "      <th>LRP3</th>\n",
              "      <th>TIMM23</th>\n",
              "      <th>TBPL1</th>\n",
              "      <th>BIRC8</th>\n",
              "      <th>TTC28</th>\n",
              "      <th>C19orf66</th>\n",
              "      <th>...</th>\n",
              "      <th>MAGEA6</th>\n",
              "      <th>IL4I1</th>\n",
              "      <th>LCN12</th>\n",
              "      <th>SMG6</th>\n",
              "      <th>C1orf100</th>\n",
              "      <th>WDR75</th>\n",
              "      <th>ZBTB26</th>\n",
              "      <th>SPTY2D1</th>\n",
              "      <th>PLEKHA2</th>\n",
              "      <th>Cell_type</th>\n",
              "    </tr>\n",
              "  </thead>\n",
              "  <tbody>\n",
              "    <tr>\n",
              "      <th>0</th>\n",
              "      <td>33.888550</td>\n",
              "      <td>38.384340</td>\n",
              "      <td>0.044721</td>\n",
              "      <td>1.385159</td>\n",
              "      <td>11.341853</td>\n",
              "      <td>105.193306</td>\n",
              "      <td>26.463990</td>\n",
              "      <td>0.000000</td>\n",
              "      <td>1.537873</td>\n",
              "      <td>27.645407</td>\n",
              "      <td>...</td>\n",
              "      <td>21.332443</td>\n",
              "      <td>1.397932</td>\n",
              "      <td>0.000000</td>\n",
              "      <td>23.136585</td>\n",
              "      <td>0.001902</td>\n",
              "      <td>60.218548</td>\n",
              "      <td>6.307399</td>\n",
              "      <td>9.577274</td>\n",
              "      <td>44.026940</td>\n",
              "      <td>B_cell</td>\n",
              "    </tr>\n",
              "    <tr>\n",
              "      <th>1</th>\n",
              "      <td>16.497124</td>\n",
              "      <td>35.054090</td>\n",
              "      <td>0.314645</td>\n",
              "      <td>4.329797</td>\n",
              "      <td>8.649321</td>\n",
              "      <td>50.577618</td>\n",
              "      <td>16.684614</td>\n",
              "      <td>0.000000</td>\n",
              "      <td>1.796609</td>\n",
              "      <td>13.715611</td>\n",
              "      <td>...</td>\n",
              "      <td>1.199440</td>\n",
              "      <td>159.147130</td>\n",
              "      <td>0.259244</td>\n",
              "      <td>18.986986</td>\n",
              "      <td>0.310971</td>\n",
              "      <td>25.818224</td>\n",
              "      <td>4.193348</td>\n",
              "      <td>14.181196</td>\n",
              "      <td>35.779896</td>\n",
              "      <td>B_cell</td>\n",
              "    </tr>\n",
              "    <tr>\n",
              "      <th>2</th>\n",
              "      <td>5.449933</td>\n",
              "      <td>31.783958</td>\n",
              "      <td>0.002949</td>\n",
              "      <td>2.137536</td>\n",
              "      <td>1.750892</td>\n",
              "      <td>109.201050</td>\n",
              "      <td>35.265984</td>\n",
              "      <td>0.011501</td>\n",
              "      <td>0.878889</td>\n",
              "      <td>19.361662</td>\n",
              "      <td>...</td>\n",
              "      <td>0.002924</td>\n",
              "      <td>25.256378</td>\n",
              "      <td>0.000000</td>\n",
              "      <td>32.941895</td>\n",
              "      <td>0.000000</td>\n",
              "      <td>99.555990</td>\n",
              "      <td>8.323141</td>\n",
              "      <td>29.321960</td>\n",
              "      <td>30.816538</td>\n",
              "      <td>B_cell</td>\n",
              "    </tr>\n",
              "    <tr>\n",
              "      <th>3</th>\n",
              "      <td>33.362240</td>\n",
              "      <td>56.147026</td>\n",
              "      <td>0.037295</td>\n",
              "      <td>1.604904</td>\n",
              "      <td>6.807299</td>\n",
              "      <td>100.141620</td>\n",
              "      <td>25.446817</td>\n",
              "      <td>0.000000</td>\n",
              "      <td>2.502661</td>\n",
              "      <td>12.745437</td>\n",
              "      <td>...</td>\n",
              "      <td>0.000000</td>\n",
              "      <td>14.509516</td>\n",
              "      <td>0.063003</td>\n",
              "      <td>19.036896</td>\n",
              "      <td>0.000000</td>\n",
              "      <td>49.394980</td>\n",
              "      <td>4.655794</td>\n",
              "      <td>17.683067</td>\n",
              "      <td>47.143270</td>\n",
              "      <td>B_cell</td>\n",
              "    </tr>\n",
              "    <tr>\n",
              "      <th>4</th>\n",
              "      <td>50.188510</td>\n",
              "      <td>30.165264</td>\n",
              "      <td>0.039678</td>\n",
              "      <td>1.501439</td>\n",
              "      <td>1.619954</td>\n",
              "      <td>46.916790</td>\n",
              "      <td>28.053373</td>\n",
              "      <td>0.018181</td>\n",
              "      <td>1.165164</td>\n",
              "      <td>30.318027</td>\n",
              "      <td>...</td>\n",
              "      <td>0.033807</td>\n",
              "      <td>93.681190</td>\n",
              "      <td>0.031816</td>\n",
              "      <td>19.094831</td>\n",
              "      <td>0.000000</td>\n",
              "      <td>20.201437</td>\n",
              "      <td>6.935232</td>\n",
              "      <td>20.769829</td>\n",
              "      <td>53.935143</td>\n",
              "      <td>B_cell</td>\n",
              "    </tr>\n",
              "  </tbody>\n",
              "</table>\n",
              "<p>5 rows × 18793 columns</p>\n",
              "</div>"
            ],
            "text/plain": [
              "       TMCC1     RANBP3    GABRG3    ARRDC5       LRP3      TIMM23      TBPL1  \\\n",
              "0  33.888550  38.384340  0.044721  1.385159  11.341853  105.193306  26.463990   \n",
              "1  16.497124  35.054090  0.314645  4.329797   8.649321   50.577618  16.684614   \n",
              "2   5.449933  31.783958  0.002949  2.137536   1.750892  109.201050  35.265984   \n",
              "3  33.362240  56.147026  0.037295  1.604904   6.807299  100.141620  25.446817   \n",
              "4  50.188510  30.165264  0.039678  1.501439   1.619954   46.916790  28.053373   \n",
              "\n",
              "      BIRC8     TTC28   C19orf66  ...     MAGEA6       IL4I1     LCN12  \\\n",
              "0  0.000000  1.537873  27.645407  ...  21.332443    1.397932  0.000000   \n",
              "1  0.000000  1.796609  13.715611  ...   1.199440  159.147130  0.259244   \n",
              "2  0.011501  0.878889  19.361662  ...   0.002924   25.256378  0.000000   \n",
              "3  0.000000  2.502661  12.745437  ...   0.000000   14.509516  0.063003   \n",
              "4  0.018181  1.165164  30.318027  ...   0.033807   93.681190  0.031816   \n",
              "\n",
              "        SMG6  C1orf100      WDR75    ZBTB26    SPTY2D1    PLEKHA2  Cell_type  \n",
              "0  23.136585  0.001902  60.218548  6.307399   9.577274  44.026940     B_cell  \n",
              "1  18.986986  0.310971  25.818224  4.193348  14.181196  35.779896     B_cell  \n",
              "2  32.941895  0.000000  99.555990  8.323141  29.321960  30.816538     B_cell  \n",
              "3  19.036896  0.000000  49.394980  4.655794  17.683067  47.143270     B_cell  \n",
              "4  19.094831  0.000000  20.201437  6.935232  20.769829  53.935143     B_cell  \n",
              "\n",
              "[5 rows x 18793 columns]"
            ]
          },
          "execution_count": 37,
          "metadata": {},
          "output_type": "execute_result"
        }
      ],
      "source": [
        "# В переменную data_path надо положить путь до данных\n",
        "data_path = \"../data\"\n",
        "expression_data = pd.read_csv(f\"{data_path}/homework_lecture_5_data.csv\", index_col=0)\n",
        "expression_data.head()"
      ]
    },
    {
      "cell_type": "code",
      "execution_count": 38,
      "metadata": {},
      "outputs": [
        {
          "data": {
            "text/plain": [
              "(1000, 18793)"
            ]
          },
          "execution_count": 38,
          "metadata": {},
          "output_type": "execute_result"
        }
      ],
      "source": [
        "# i've decided to look at the shape of the table to make sure that it's huge and scary\n",
        "expression_data.shape"
      ]
    },
    {
      "cell_type": "code",
      "execution_count": 39,
      "metadata": {},
      "outputs": [
        {
          "data": {
            "text/html": [
              "<div>\n",
              "<style scoped>\n",
              "    .dataframe tbody tr th:only-of-type {\n",
              "        vertical-align: middle;\n",
              "    }\n",
              "\n",
              "    .dataframe tbody tr th {\n",
              "        vertical-align: top;\n",
              "    }\n",
              "\n",
              "    .dataframe thead th {\n",
              "        text-align: right;\n",
              "    }\n",
              "</style>\n",
              "<table border=\"1\" class=\"dataframe\">\n",
              "  <thead>\n",
              "    <tr style=\"text-align: right;\">\n",
              "      <th></th>\n",
              "      <th>Cell_type</th>\n",
              "      <th>TMCC1</th>\n",
              "    </tr>\n",
              "  </thead>\n",
              "  <tbody>\n",
              "    <tr>\n",
              "      <th>0</th>\n",
              "      <td>B_cell</td>\n",
              "      <td>500</td>\n",
              "    </tr>\n",
              "    <tr>\n",
              "      <th>1</th>\n",
              "      <td>NK_cell</td>\n",
              "      <td>500</td>\n",
              "    </tr>\n",
              "  </tbody>\n",
              "</table>\n",
              "</div>"
            ],
            "text/plain": [
              "  Cell_type  TMCC1\n",
              "0    B_cell    500\n",
              "1   NK_cell    500"
            ]
          },
          "execution_count": 39,
          "metadata": {},
          "output_type": "execute_result"
        }
      ],
      "source": [
        "# just curious how many B-cells and NK-cells we have in the dataset\n",
        "expression_data\\\n",
        "    .groupby('Cell_type', as_index=False)\\\n",
        "    .aggregate({'TMCC1': 'count'}) # if we use count it does not really matter what variable we aggresate on\n",
        "\n",
        "# now I know there are 500 B-cells and 500 NK-cells"
      ]
    },
    {
      "cell_type": "code",
      "execution_count": 40,
      "metadata": {
        "id": "9k75ZGZyVBhu"
      },
      "outputs": [],
      "source": [
        "b_cells_expression_data = expression_data.query(\"Cell_type == 'B_cell'\")\n",
        "nk_cells_expression_data = expression_data.query(\"Cell_type == 'NK_cell'\")"
      ]
    },
    {
      "cell_type": "markdown",
      "metadata": {
        "id": "OAUclhJ3UC2p"
      },
      "source": [
        "В этом задании мы будем работать с данными об экспрессии генов в друх клеточных типах: в B-клетках и в NK-клетках. Выясним, средняя экспрессия каких генов значимо различается в этих клеточных типах."
      ]
    },
    {
      "cell_type": "markdown",
      "metadata": {
        "id": "crW-TliUUuye"
      },
      "source": [
        "Я буду показывать примеры на одном гене, а на основе них вы сможете сделать похожие задачи для всех генов."
      ]
    },
    {
      "cell_type": "code",
      "execution_count": 41,
      "metadata": {
        "id": "1o1vmOSoQMRy"
      },
      "outputs": [],
      "source": [
        "example_gene = \"TMCC1\""
      ]
    },
    {
      "cell_type": "markdown",
      "metadata": {
        "id": "gFSq8BCiUb_m"
      },
      "source": [
        "## Задание 1\n",
        "\n",
        "**2 баллов**"
      ]
    },
    {
      "cell_type": "markdown",
      "metadata": {
        "id": "419ztR7lVm_E"
      },
      "source": [
        "Посмотрим на распределение экспрессий гена `TMCC1` в обоих клеточных типах."
      ]
    },
    {
      "cell_type": "code",
      "execution_count": 42,
      "metadata": {
        "colab": {
          "base_uri": "https://localhost:8080/",
          "height": 279
        },
        "id": "0ln2fQG2QMen",
        "outputId": "00298ce4-4675-4eee-e9aa-e322f2f0b703"
      },
      "outputs": [
        {
          "data": {
            "image/png": "[encoded data removed]",
            "text/plain": [
              "<Figure size 640x480 with 1 Axes>"
            ]
          },
          "metadata": {},
          "output_type": "display_data"
        }
      ],
      "source": [
        "sns.histplot(b_cells_expression_data[example_gene], stat=\"density\");"
      ]
    },
    {
      "cell_type": "code",
      "execution_count": 43,
      "metadata": {
        "colab": {
          "base_uri": "https://localhost:8080/",
          "height": 281
        },
        "id": "pNdIdzpYQMpu",
        "outputId": "25c386a9-6f30-4beb-afbd-d837a8dd066b"
      },
      "outputs": [
        {
          "data": {
            "image/png": "[encoded data removed]",
            "text/plain": [
              "<Figure size 640x480 with 1 Axes>"
            ]
          },
          "metadata": {},
          "output_type": "display_data"
        }
      ],
      "source": [
        "sns.histplot(nk_cells_expression_data[example_gene], stat=\"density\");"
      ]
    },
    {
      "cell_type": "markdown",
      "metadata": {
        "id": "TvQPlK5zV77n"
      },
      "source": [
        "Кажется, что они немного различаются. Для начала давайте попробуем еще раз проверить центральную предельную теорему.\n",
        "\n",
        "**Задание:**\n",
        "\n",
        "Напишите функцию, которая будет принимать на вход экспрессии гена, семплировать их них выборки размера `sample_size`, считать среднюю экспрессию и повторять это `n_samples` раз. Примените эту функцию к экспрессиям гена `TMCC1` в обоих клеточных типах, визуализируйте их. Отличаются ли средние экспрессии данного гена у этих клеточных типов?\n",
        " \n",
        "Сигнатура функции:\n",
        "\n",
        "```python\n",
        "def demonstrate_clt(expressions, sample_size, n_samples):\n",
        "    mean_expressions = []\n",
        "\n",
        "    return mean_expressions\n",
        "```"
      ]
    },
    {
      "cell_type": "code",
      "execution_count": 44,
      "metadata": {
        "id": "liScG4k7qVtW"
      },
      "outputs": [],
      "source": [
        "def demonstrate_clt(\n",
        "    expressions, \n",
        "    sample_size=1000,\n",
        "    n_samples=200):\n",
        "    mean_expressions = []\n",
        "    for _ in range(n_samples):\n",
        "        sample = np.random.choice(expressions, sample_size)\n",
        "        mean_expression = np.mean(sample)\n",
        "        mean_expressions.append(mean_expression)\n",
        "    return mean_expressions\n"
      ]
    },
    {
      "cell_type": "code",
      "execution_count": 45,
      "metadata": {},
      "outputs": [
        {
          "name": "stdout",
          "output_type": "stream",
          "text": [
            "27.050081810173502\n"
          ]
        },
        {
          "data": {
            "image/png": "[encoded data removed]",
            "text/plain": [
              "<Figure size 640x480 with 1 Axes>"
            ]
          },
          "metadata": {},
          "output_type": "display_data"
        }
      ],
      "source": [
        "b_means = demonstrate_clt(b_cells_expression_data[example_gene])\n",
        "sns.histplot(b_means, stat=\"density\")\n",
        "print(np.mean(b_means))"
      ]
    },
    {
      "cell_type": "code",
      "execution_count": 46,
      "metadata": {},
      "outputs": [
        {
          "name": "stdout",
          "output_type": "stream",
          "text": [
            "30.415221780664503\n"
          ]
        },
        {
          "data": {
            "image/png": "[encoded data removed]",
            "text/plain": [
              "<Figure size 640x480 with 1 Axes>"
            ]
          },
          "metadata": {},
          "output_type": "display_data"
        }
      ],
      "source": [
        "nk_means = demonstrate_clt(nk_cells_expression_data[example_gene])\n",
        "sns.histplot(nk_means, stat=\"density\")\n",
        "print(np.mean(nk_means))"
      ]
    },
    {
      "cell_type": "markdown",
      "metadata": {},
      "source": [
        "*Распределения выборочных средних для обоих типов клеток выглядят почти нормально. Над графиками я вывела среднее по средним для каждого типа клеток, они различаются, но судя по распределениям, непонятно, достоверно ли.*"
      ]
    },
    {
      "cell_type": "markdown",
      "metadata": {
        "id": "dy8xJYbfa_1W"
      },
      "source": [
        "А теперь посчитайте 95% доверительные интервалы для обоих распределений (примем тот факт, что средние распределены нормально для обоих клеточных типов) и скажите, отличается ли средняя экспрессия данного гена между клеточными типами?"
      ]
    },
    {
      "cell_type": "code",
      "execution_count": 47,
      "metadata": {
        "id": "ZtEKz5jzZ65A"
      },
      "outputs": [],
      "source": [
        "def calculate_ci(sample):\n",
        "    std = sample.std()\n",
        "    mean = sample.mean()\n",
        "    se = std / np.sqrt(len(sample))\n",
        "    left_b = mean - 1.96 * se\n",
        "    right_b = mean + 1.96 * se\n",
        "\n",
        "    return left_b, right_b"
      ]
    },
    {
      "cell_type": "code",
      "execution_count": 48,
      "metadata": {},
      "outputs": [
        {
          "name": "stdout",
          "output_type": "stream",
          "text": [
            "TMCC1 expression in B-cells confidence interval: (23.428838382857926, 30.529105275542058)\n",
            "TMCC1 expression in NK-cells confidence interval: (26.854734824710707, 34.0079043760893)\n"
          ]
        }
      ],
      "source": [
        "print(f'TMCC1 expression in B-cells confidence interval: {calculate_ci(b_cells_expression_data[\"TMCC1\"])}')\n",
        "print(f'TMCC1 expression in NK-cells confidence interval: {calculate_ci(nk_cells_expression_data[\"TMCC1\"])}')"
      ]
    },
    {
      "cell_type": "markdown",
      "metadata": {},
      "source": [
        "*Доверительные интервалы пересекаются, значит, у нас нет оснований отвергать нулевую гипотезу о том, что экспрессия гена TMCC1 у B-клеток и NK-клеток различается.*"
      ]
    },
    {
      "cell_type": "markdown",
      "metadata": {
        "id": "ohXJ3B-TcwP1"
      },
      "source": [
        "## Задание 2\n",
        "\n",
        "**4 баллов**"
      ]
    },
    {
      "cell_type": "markdown",
      "metadata": {
        "id": "OZeMqL9KdCZW"
      },
      "source": [
        "Вспомнили центральную предельную теорему и то, как считать доверительные интервалы в простом случае, теперь давайте воспользуемся библиотечной реализацией для того, чтобы протестировать уже все гены. "
      ]
    },
    {
      "cell_type": "code",
      "execution_count": 49,
      "metadata": {
        "id": "lWagSgzjabYZ"
      },
      "outputs": [],
      "source": [
        "import scipy.stats as st"
      ]
    },
    {
      "cell_type": "markdown",
      "metadata": {
        "id": "8UF6p1vpekvX"
      },
      "source": [
        "Посчитаем доверительные интервалы для нашего демонстрационного гена в обоих клеточных типах:"
      ]
    },
    {
      "cell_type": "code",
      "execution_count": 50,
      "metadata": {
        "colab": {
          "base_uri": "https://localhost:8080/"
        },
        "id": "6D37bTt5cyVm",
        "outputId": "13509c33-9373-4893-e92c-f2ae556be6de"
      },
      "outputs": [
        {
          "data": {
            "text/plain": [
              "(23.420272072079285, 30.5376715863207)"
            ]
          },
          "execution_count": 50,
          "metadata": {},
          "output_type": "execute_result"
        }
      ],
      "source": [
        "# B клетки\n",
        "st.t.interval(alpha=0.95, # 95% доверительный интервал\n",
        "              df=len(b_cells_expression_data[example_gene]) - 1, # число степеней свободы - 1\n",
        "              loc=np.mean(b_cells_expression_data[example_gene]), # Среднее\n",
        "              scale=st.sem(b_cells_expression_data[example_gene])) # Стандартная ошибка среднего"
      ]
    },
    {
      "cell_type": "code",
      "execution_count": 51,
      "metadata": {
        "colab": {
          "base_uri": "https://localhost:8080/"
        },
        "id": "fgUUKsMhcyfG",
        "outputId": "32bca3dc-399a-4c7c-9ba6-3ac3726c172f"
      },
      "outputs": [
        {
          "data": {
            "text/plain": [
              "(26.846104688075624, 34.016534512724384)"
            ]
          },
          "execution_count": 51,
          "metadata": {},
          "output_type": "execute_result"
        }
      ],
      "source": [
        "# NK клетки\n",
        "st.t.interval(alpha=0.95, # 95% доверительный интервал\n",
        "              df=len(nk_cells_expression_data[example_gene]) - 1, # число степеней свободы - 1\n",
        "              loc=np.mean(nk_cells_expression_data[example_gene]), # Среднее\n",
        "              scale=st.sem(nk_cells_expression_data[example_gene])) # Стандартная ошибка среднего"
      ]
    },
    {
      "cell_type": "markdown",
      "metadata": {
        "id": "q60PntVDfVof"
      },
      "source": [
        "Напишите функцию для проверки того, что доверительные интервалы пересекаются. На лекции мы тестировали гипотезы для равенства среднего выборки заданному числу и проверяли, попало ли оно в границы этого интервала или нет, если оно оказывалось за ними, то мы говорили, что средние отличаются. Здесь же мы имеем дело с двумя выборками, поэтому будем проверять, пересекаются ли доверительные интервалы, и, если нет, то говорить о том, что средние в выборках отличаются.\n",
        "\n",
        "```python\n",
        "def check_intervals_intersect(first_ci, second_ci):   \n",
        "\n",
        "    return are_intersect # True or False\n",
        "```"
      ]
    },
    {
      "cell_type": "code",
      "execution_count": 52,
      "metadata": {
        "id": "iIYx9Pb9fO_q"
      },
      "outputs": [],
      "source": [
        "def check_intervals_intersect(first_ci, second_ci):\n",
        "    \"\"\"If True, then the intervals do intersect and therefore the difference is not significant\n",
        "    If False, then the intervals do not intersect and therefore the difference is significant\"\"\"\n",
        "    return (max(first_ci[0], second_ci[0])) < min(first_ci[1], second_ci[1])\n"
      ]
    },
    {
      "cell_type": "markdown",
      "metadata": {
        "id": "2cpsVdR-gYkm"
      },
      "source": [
        "Теперь для каждого гена посчитайте доверительные интервалы в обоих клеточных типах, и проверьте, пересекаются ли они? Результаты можно добавлять в список, например:\n",
        "\n",
        "```python\n",
        "ci_test_results = [True, False, ..., True]\n",
        "```"
      ]
    },
    {
      "cell_type": "code",
      "execution_count": 53,
      "metadata": {
        "id": "JMOoVjZsr7WU"
      },
      "outputs": [],
      "source": [
        "gene_names = expression_data.columns[:-1] # set with all gene names for further iteration\n",
        "ci_test_results = []\n",
        "for gene in gene_names:\n",
        "    ci_b_cell = st.t.interval(\n",
        "        alpha=0.95, # confidence interval for gene expression in b-cells\n",
        "        df=len(b_cells_expression_data[gene]) - 1,\n",
        "        loc=np.mean(b_cells_expression_data[gene]),\n",
        "        scale=st.sem(b_cells_expression_data[gene])\n",
        "        )\n",
        "    ci_nk_cell = st.t.interval(\n",
        "        alpha=0.95, # confidence interval for gene expression in nk-cells\n",
        "        df=len(nk_cells_expression_data[gene]) - 1, \n",
        "        loc=np.mean(nk_cells_expression_data[gene]), \n",
        "        scale=st.sem(nk_cells_expression_data[gene])\n",
        "        )\n",
        "    ci_test_results.append(check_intervals_intersect(ci_b_cell, ci_nk_cell)) \n",
        "\n"
      ]
    },
    {
      "cell_type": "markdown",
      "metadata": {
        "id": "GTeBsVNHhpr9"
      },
      "source": [
        "Попытайтесь оформить это в виде функции, которая будет принимать на вход две таблицы с экспрессиями и выдавать для каждого гена, значимо ли отличается его средняя экспрессия между клеточными типами.\n",
        "\n",
        "```python\n",
        "def check_dge_with_ci(first_table, second_table):\n",
        "    # dge - differential gene expression\n",
        "\n",
        "    return ci_test_results\n",
        "```"
      ]
    },
    {
      "cell_type": "code",
      "execution_count": 54,
      "metadata": {
        "id": "nxgCa0V-r8Xw"
      },
      "outputs": [],
      "source": [
        "def check_dge_with_ci(first_table, second_table):\n",
        "    gene_names = set(first_table.columns).intersection(set(second_table.columns)).difference(set([\"Cell_type\"]))\n",
        "    ci_test_results = dict()\n",
        "\n",
        "    for gene in gene_names:\n",
        "        ci_first_table = st.t.interval(\n",
        "            alpha=0.95, # confidence interval for gene expression in cells from fisrt table\n",
        "            df=len(first_table[gene]) - 1,\n",
        "            loc=np.mean(first_table[gene]),\n",
        "            scale=st.sem(first_table[gene]))\n",
        "\n",
        "        ci_second_table = st.t.interval(\n",
        "            alpha=0.95, # confidence interval for gene expression in cells from second table\n",
        "            df=len(second_table[gene]) - 1, \n",
        "            loc=np.mean(second_table[gene]), \n",
        "            scale=st.sem(second_table[gene]))\n",
        "                                        \n",
        "        ci_test_results[gene] = not (check_intervals_intersect(ci_first_table, ci_second_table))\n",
        "        \n",
        "    return ci_test_results"
      ]
    },
    {
      "cell_type": "markdown",
      "metadata": {},
      "source": [
        "*Проверяю работу функции*"
      ]
    },
    {
      "cell_type": "code",
      "execution_count": 55,
      "metadata": {},
      "outputs": [
        {
          "data": {
            "text/plain": [
              "'check_dge_with_ci(\\n    b_cells_expression_data, \\n    nk_cells_expression_data\\n    )'"
            ]
          },
          "execution_count": 55,
          "metadata": {},
          "output_type": "execute_result"
        }
      ],
      "source": [
        "\"\"\"check_dge_with_ci(\n",
        "    b_cells_expression_data, \n",
        "    nk_cells_expression_data\n",
        "    )\"\"\"\n",
        "# FUNCTION CHECK False or True is the answer to a question whether expressions differ significantly"
      ]
    },
    {
      "cell_type": "markdown",
      "metadata": {
        "id": "BTMrzw2Cjk8x"
      },
      "source": [
        "## Задание 3\n",
        "\n",
        "**4 баллов**"
      ]
    },
    {
      "cell_type": "markdown",
      "metadata": {
        "id": "Hg6BH7N-kilU"
      },
      "source": [
        "Давайте теперь применим для той же задачи `z-критерий`. Будем считать, что в данном случае $\\alpha$ = 0.05, и если полученное `p-value` будет меньше, то экспрессия генов значимо отличается."
      ]
    },
    {
      "cell_type": "code",
      "execution_count": 56,
      "metadata": {
        "id": "pfKgFrLCfPN5"
      },
      "outputs": [],
      "source": [
        "from statsmodels.stats.weightstats import ztest"
      ]
    },
    {
      "cell_type": "code",
      "execution_count": 57,
      "metadata": {
        "colab": {
          "base_uri": "https://localhost:8080/"
        },
        "id": "8ws5c8kQcyxA",
        "outputId": "1ded25f5-353b-4872-c4a0-bcc0b4a153a2"
      },
      "outputs": [
        {
          "data": {
            "text/plain": [
              "(-1.3427434041885127, 0.17935507499860204)"
            ]
          },
          "execution_count": 57,
          "metadata": {},
          "output_type": "execute_result"
        }
      ],
      "source": [
        "# Наш излюбленный ген\n",
        "ztest(\n",
        "    b_cells_expression_data[example_gene],\n",
        "    nk_cells_expression_data[example_gene]\n",
        ")"
      ]
    },
    {
      "cell_type": "markdown",
      "metadata": {
        "id": "jouFFsZGlWr8"
      },
      "source": [
        "Попытайтесь оформить это в виде функции, которая будет принимать на вход две таблицы с экспрессиями и выдавать для каждого гена, значимо ли отличается его средняя экспрессия между клеточными типами.\n",
        "\n",
        "```python\n",
        "def check_dge_with_ztest(first_table, second_table):\n",
        "    # dge - differential gene expression\n",
        "\n",
        "    return z_test_results\n",
        "```"
      ]
    },
    {
      "cell_type": "code",
      "execution_count": 58,
      "metadata": {
        "id": "aXc720tmhNt7"
      },
      "outputs": [],
      "source": [
        "def check_dge_with_ztest(table_1, table_2):\n",
        "    gene_names = set(table_1.columns).intersection(set(table_2.columns)).difference(set([\"Cell_type\"]))\n",
        "    z_test_results = dict()\n",
        "\n",
        "    for gene in gene_names:\n",
        "        z_result = ztest(\n",
        "            table_1[gene], \n",
        "            table_2[gene]\n",
        "            )\n",
        "        p_val = z_result[1]\n",
        "        z_test_results[gene] = p_val\n",
        "    \n",
        "    return z_test_results"
      ]
    },
    {
      "cell_type": "markdown",
      "metadata": {},
      "source": [
        "*Проверяю работу функции*"
      ]
    },
    {
      "cell_type": "code",
      "execution_count": 59,
      "metadata": {},
      "outputs": [
        {
          "data": {
            "text/plain": [
              "'check_dge_with_ztest(\\n    b_cells_expression_data,\\n    nk_cells_expression_data\\n)'"
            ]
          },
          "execution_count": 59,
          "metadata": {},
          "output_type": "execute_result"
        }
      ],
      "source": [
        "\"\"\"check_dge_with_ztest(\n",
        "    b_cells_expression_data,\n",
        "    nk_cells_expression_data\n",
        ")\"\"\"\n",
        "# FUNCTION CHECK"
      ]
    },
    {
      "cell_type": "markdown",
      "metadata": {
        "id": "TZpNj9EMlenZ"
      },
      "source": [
        "## Задание 4\n",
        "\n",
        "**10 баллов**"
      ]
    },
    {
      "cell_type": "markdown",
      "metadata": {
        "id": "sqCB9SY9ljrn"
      },
      "source": [
        "Теперь пришла пора оформить все ваши старания в виде программы. Напишите программу, которая принимает на вход следующие аргуметры:\n",
        "\n",
        "1. `first_cell_type_expressions_path` &ndash; путь до таблицы с экспрессиями генов для одного клеточного типа;\n",
        "2. `second_cell_type_expressions_path` &ndash; путь до таблицы с экспрессиями генов для второго клеточного типа;\n",
        "3. `save_results_table` &ndash; название таблицы с результатами.\n",
        "\n",
        "Считывать аргументы можно любым удобным способом (например, `input`, `argparse`).\n",
        "\n",
        "Как читать данные при помощи пандаса мы уже знаем, осталось понять, как записывать результаты. Допустим, вы записывали результаты ваших тестов в списки, тогда создать пандасовский датафрейм можно следующим образом:"
      ]
    },
    {
      "cell_type": "markdown",
      "metadata": {},
      "source": [
        "*В предыдущих заданиях я пару раз использовала словари, а тут лучше всё организовать в списки. Для предыдущих функций оставлю вывод в виде словаря (мне кажется такой вывод более логичным для проверки одним тестом, если пользователь не захочет другие), а для программы перепишу эти функции, немного изменив их вывод. Надеюсь, так будет ок!*"
      ]
    },
    {
      "cell_type": "code",
      "execution_count": 60,
      "metadata": {},
      "outputs": [],
      "source": [
        "def diffexpr_ci(first_table, second_table):\n",
        "    \"\"\"function for a tool that calculates the difference between gene expressions from two tables using confidence intervals\"\"\"\n",
        "    gene_names = set(first_table.columns).intersection(set(second_table.columns)).difference(set([\"Cell_type\"])) # gene name has to be in both tables and the cell type has not to be considered as a gene name\n",
        "    genes = list() # list of gene names\n",
        "    ci_test_results = list() # results list\n",
        "\n",
        "    for gene in gene_names:\n",
        "        ci_first_table = st.t.interval(\n",
        "            alpha=0.95, # confidence interval for gene expression in cells from fisrt table\n",
        "            df=len(first_table[gene]) - 1,\n",
        "            loc=np.mean(first_table[gene]),\n",
        "            scale=st.sem(first_table[gene]))\n",
        "\n",
        "        ci_second_table = st.t.interval(\n",
        "            alpha=0.95, # confidence interval for gene expression in cells from second table\n",
        "            df=len(second_table[gene]) - 1, \n",
        "            loc=np.mean(second_table[gene]), \n",
        "            scale=st.sem(second_table[gene]))\n",
        "                                        \n",
        "        ci_test_results.append(not (check_intervals_intersect(ci_first_table, ci_second_table))) # if intervals do not intersect we consider the difference significant\n",
        "        genes.append(gene)\n",
        "    return genes, ci_test_results # two lists so that gene name would correspond to ci test result"
      ]
    },
    {
      "cell_type": "code",
      "execution_count": 61,
      "metadata": {},
      "outputs": [],
      "source": [
        "def diffexpr_ztest(table_1, table_2):\n",
        "    \"\"\"function for a tool to calculate differences between gene expressions usinf ztest\"\"\"\n",
        "    gene_names = set(table_1.columns).intersection(set(table_2.columns)).difference(set([\"Cell_type\"])) # gene names for comparison have to be in both tables and cell type would not be considered as gene\n",
        "    z_test_values = list() # list for p_values\n",
        "    z_test_results = list() # list for results in terms True/False \n",
        "\n",
        "    for gene in gene_names:\n",
        "        z_result = ztest(\n",
        "            table_1[gene], \n",
        "            table_2[gene]\n",
        "            )\n",
        "        p_val = z_result[1]\n",
        "        z_test_values.append(p_val)\n",
        "        z_test_results.append(p_val < 0.05)\n",
        "    \n",
        "    return z_test_results, z_test_values"
      ]
    },
    {
      "cell_type": "code",
      "execution_count": 62,
      "metadata": {},
      "outputs": [],
      "source": [
        "def diff_means(table_1, table_2):\n",
        "    \"\"\"calculate the difference benween means of each gene expressions between two tables\"\"\"\n",
        "    gene_names = set(table_1.columns).intersection(set(table_2.columns)).difference(set([\"Cell_type\"]))\n",
        "    difference = list()\n",
        "\n",
        "    for gene in gene_names:\n",
        "        difference.append(np.mean(table_2[gene]) - np.mean(table_1[gene]))\n",
        "    return difference"
      ]
    },
    {
      "cell_type": "code",
      "execution_count": 63,
      "metadata": {
        "id": "MT2i-0StqcM2"
      },
      "outputs": [],
      "source": [
        "def diffexpr(\n",
        "    first_cell_type_expressions_path,\n",
        "    second_cell_type_expressions_path,\n",
        "    save_results_table\n",
        "    ):\n",
        "    \n",
        "    first_cell_type_expressions = pd.read_csv(first_cell_type_expressions_path, index_col=0) # upload first table\n",
        "    second_cell_type_expressions = pd.read_csv(second_cell_type_expressions_path, index_col=0) # upload second table\n",
        "\n",
        "    gen_names = diffexpr_ci(first_cell_type_expressions, second_cell_type_expressions)[0] # list with gene names\n",
        "    ci_results = diffexpr_ci(first_cell_type_expressions, second_cell_type_expressions)[1] # list with ci results\n",
        "    z_results = diffexpr_ztest(first_cell_type_expressions, second_cell_type_expressions)[0] # list with ztest results\n",
        "    z_p_vals = diffexpr_ztest(first_cell_type_expressions, second_cell_type_expressions)[1] # list with ztest p values\n",
        "    mean_diff = diff_means(first_cell_type_expressions, second_cell_type_expressions) # list with difference between means of expressions\n",
        "\n",
        "    results = {\n",
        "        \"gene_name\": gen_names,\n",
        "        \"ci_test_results\": ci_results,\n",
        "        \"z_test_results\": z_results,\n",
        "        \"z_test_p_values\": z_p_vals,\n",
        "        \"mean_diff\": mean_diff\n",
        "    } \n",
        "\n",
        "    results = pd.DataFrame(results)\n",
        "    results.to_csv(f\"{save_results_table}.csv\")"
      ]
    },
    {
      "cell_type": "code",
      "execution_count": 64,
      "metadata": {
        "colab": {
          "base_uri": "https://localhost:8080/",
          "height": 153
        },
        "id": "UK3kTYEBljMl",
        "outputId": "164a2f08-4909-4fa2-fee9-e77b2c3bf47d"
      },
      "outputs": [
        {
          "data": {
            "text/html": [
              "<div>\n",
              "<style scoped>\n",
              "    .dataframe tbody tr th:only-of-type {\n",
              "        vertical-align: middle;\n",
              "    }\n",
              "\n",
              "    .dataframe tbody tr th {\n",
              "        vertical-align: top;\n",
              "    }\n",
              "\n",
              "    .dataframe thead th {\n",
              "        text-align: right;\n",
              "    }\n",
              "</style>\n",
              "<table border=\"1\" class=\"dataframe\">\n",
              "  <thead>\n",
              "    <tr style=\"text-align: right;\">\n",
              "      <th></th>\n",
              "      <th>ci_test_results</th>\n",
              "      <th>z_test_results</th>\n",
              "      <th>z_test_p_values</th>\n",
              "      <th>mean_diff</th>\n",
              "    </tr>\n",
              "  </thead>\n",
              "  <tbody>\n",
              "    <tr>\n",
              "      <th>0</th>\n",
              "      <td>True</td>\n",
              "      <td>True</td>\n",
              "      <td>0.0040</td>\n",
              "      <td>-10.0</td>\n",
              "    </tr>\n",
              "    <tr>\n",
              "      <th>1</th>\n",
              "      <td>False</td>\n",
              "      <td>True</td>\n",
              "      <td>0.0100</td>\n",
              "      <td>10.0</td>\n",
              "    </tr>\n",
              "    <tr>\n",
              "      <th>2</th>\n",
              "      <td>True</td>\n",
              "      <td>True</td>\n",
              "      <td>0.0001</td>\n",
              "      <td>0.5</td>\n",
              "    </tr>\n",
              "  </tbody>\n",
              "</table>\n",
              "</div>"
            ],
            "text/plain": [
              "   ci_test_results  z_test_results  z_test_p_values  mean_diff\n",
              "0             True            True           0.0040      -10.0\n",
              "1            False            True           0.0100       10.0\n",
              "2             True            True           0.0001        0.5"
            ]
          },
          "execution_count": 64,
          "metadata": {},
          "output_type": "execute_result"
        }
      ],
      "source": [
        "ci_test_results = [True, False, True]\n",
        "z_test_results = [True, True, True]\n",
        "# Опционально можно также сохранять p-value для z-критерия\n",
        "z_test_p_values = [0.004, 0.01, 0.0001]\n",
        "# Также сохраните разницу в средних экспрессиях между 1 и 2 таблицами для каждого гена,\n",
        "# чтобы было понять, уменьшается или увеличивается экспрессия гена\n",
        "mean_diff = [-10, 10, 0.5]\n",
        "\n",
        "# Созданим словарь {'название колонки': список_значений}\n",
        "results = {\n",
        "    \"ci_test_results\": ci_test_results,\n",
        "    \"z_test_results\": z_test_results,\n",
        "    \"z_test_p_values\": z_test_p_values,\n",
        "    \"mean_diff\": mean_diff\n",
        "}\n",
        "\n",
        "# Из словаря делаем датафрейм\n",
        "results = pd.DataFrame(results)\n",
        "results.head()"
      ]
    },
    {
      "cell_type": "code",
      "execution_count": 65,
      "metadata": {
        "id": "WvjHjmLcoBQO"
      },
      "outputs": [],
      "source": [
        "# Сохраним таблицу в .csv файл\n",
        "results.to_csv(\"path_to_your_awesome_results.csv\")"
      ]
    },
    {
      "cell_type": "markdown",
      "metadata": {
        "id": "AnjRiJBtqbCu"
      },
      "source": [
        "## Задание 5\n",
        "\n",
        "**0.5 баллов (доп.)**\n",
        "\n",
        "В онлайне сложно знакомиться, а особенно сейчас. Созвонитесь с кем-то из других студентов и прикрипите сюда скрин вашего созвона. Можно коротко описать, о чем вы говорили)"
      ]
    },
    {
      "cell_type": "markdown",
      "metadata": {},
      "source": [
        "<div>\n",
        "<img src=\"call.png\" wigth=\"300\">\n",
        "</div>"
      ]
    },
    {
      "cell_type": "markdown",
      "metadata": {},
      "source": [
        "Самое классное в беседе было то, что мы обнаружили общий интерес к музыке на виниле :)"
      ]
    }
  ],
  "metadata": {
    "colab": {
      "authorship_tag": "ABX9TyMTwiYBeUHAX8ffZHeJV4cz",
      "collapsed_sections": [],
      "include_colab_link": true,
      "provenance": []
    },
    "kernelspec": {
      "display_name": "Python 3.10.6 64-bit",
      "language": "python",
      "name": "python3"
    },
    "language_info": {
      "codemirror_mode": {
        "name": "ipython",
        "version": 3
      },
      "file_extension": ".py",
      "mimetype": "text/x-python",
      "name": "python",
      "nbconvert_exporter": "python",
      "pygments_lexer": "ipython3",
      "version": "3.10.6"
    },
    "vscode": {
      "interpreter": {
        "hash": "916dbcbb3f70747c44a77c7bcd40155683ae19c65e1c03b4aa3499c5328201f1"
      }
    }
  },
  "nbformat": 4,
  "nbformat_minor": 0
}
